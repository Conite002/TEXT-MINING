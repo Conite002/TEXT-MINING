{
 "cells": [
  {
   "cell_type": "markdown",
   "metadata": {},
   "source": []
  },
  {
   "cell_type": "markdown",
   "metadata": {},
   "source": [
    "## Pretraitements \n",
    "\n",
    "### Analyse morphologique (Segmentation)\n",
    "`Subdivision de texte en tokens`\n",
    "\n",
    "* Monogram\n",
    "* Bigrams\n",
    "* Trigrams\n",
    "* Ngrams\n",
    "\n",
    "### Analyse lexicale : radicale + l'ordre grammaticale du mot\n",
    "\n",
    "### Analyse semantique (Approche lexicale)\n",
    "### Analyse semantique Statisque\n"
   ]
  },
  {
   "cell_type": "markdown",
   "metadata": {},
   "source": [
    "Modele representative :\n",
    "\n",
    "* OHV, BOW, TFIDF\n",
    "Ont tous un incovenient en commun\n",
    "\n",
    "##"
   ]
  }
 ],
 "metadata": {
  "kernelspec": {
   "display_name": "base",
   "language": "python",
   "name": "python3"
  },
  "language_info": {
   "codemirror_mode": {
    "name": "ipython",
    "version": 3
   },
   "file_extension": ".py",
   "mimetype": "text/x-python",
   "name": "python",
   "nbconvert_exporter": "python",
   "pygments_lexer": "ipython3",
   "version": "3.11.5"
  }
 },
 "nbformat": 4,
 "nbformat_minor": 2
}
