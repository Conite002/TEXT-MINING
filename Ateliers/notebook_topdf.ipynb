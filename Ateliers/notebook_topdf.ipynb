{
 "cells": [
  {
   "cell_type": "code",
   "execution_count": null,
   "metadata": {},
   "outputs": [
    {
     "name": "stdout",
     "output_type": "stream",
     "text": [
      "Failed to convert Atelier_1_TM_2024.ipynb: Pandoc wasn't found.\n",
      "Please check that pandoc is installed:\n",
      "https://pandoc.org/installing.html\n",
      "Failed to convert Atelier_2_TM_2024.ipynb: Pandoc wasn't found.\n",
      "Please check that pandoc is installed:\n",
      "https://pandoc.org/installing.html\n",
      "Failed to convert Atelier_3_TM_2024.ipynb: Pandoc wasn't found.\n",
      "Please check that pandoc is installed:\n",
      "https://pandoc.org/installing.html\n",
      "Failed to convert Atelier_4_TM_2024.ipynb: Pandoc wasn't found.\n",
      "Please check that pandoc is installed:\n",
      "https://pandoc.org/installing.html\n",
      "Failed to convert Atelier_5_TM_2023.ipynb: Pandoc wasn't found.\n",
      "Please check that pandoc is installed:\n",
      "https://pandoc.org/installing.html\n",
      "Failed to convert Atelier_6_TM_2024.ipynb: Pandoc wasn't found.\n",
      "Please check that pandoc is installed:\n",
      "https://pandoc.org/installing.html\n",
      "Failed to convert notebook_topdf.ipynb: Notebook does not appear to be JSON: ''\n"
     ]
    }
   ],
   "source": [
    "import os\n",
    "from nbconvert import PDFExporter\n",
    "from nbformat import read\n",
    "\n",
    "\n",
    "# Directory containing the notebooks\n",
    "base_path = \"C:\\\\Users\\\\dscon\\\\Documents\\\\COURS UM6P\\\\S3\\\\TEXT-MINING\\Ateliers\\\\\"\n",
    "notebook_dir = \".\"\n",
    "output_dir = \"path_to_output\"\n",
    "\n",
    "# Ensure output directory exists\n",
    "os.makedirs(output_dir, exist_ok=True)\n",
    "\n",
    "# Iterate through all files in the directory\n",
    "for file in os.listdir(notebook_dir):\n",
    "    if file.endswith(\".ipynb\"):\n",
    "        notebook_path = os.path.join(notebook_dir, file)\n",
    "        output_path = os.path.join(output_dir, file.replace(\".ipynb\", \".pdf\"))\n",
    "        \n",
    "        try:\n",
    "            # Open and read the notebook\n",
    "            with open(notebook_path, \"r\", encoding=\"utf-8\") as f:\n",
    "                notebook_content = read(f, as_version=4)\n",
    "            \n",
    "            # Convert to PDF\n",
    "            pdf_exporter = PDFExporter()\n",
    "            pdf_data, _ = pdf_exporter.from_notebook_node(notebook_content)\n",
    "            \n",
    "            # Write the PDF file\n",
    "            with open(output_path, \"wb\") as pdf_file:\n",
    "                pdf_file.write(pdf_data)\n",
    "            \n",
    "            print(f\"Converted: {file} -> {output_path}\")\n",
    "        except Exception as e:\n",
    "            print(f\"Failed to convert {file}: {e}\")\n"
   ]
  },
  {
   "cell_type": "code",
   "execution_count": null,
   "metadata": {},
   "outputs": [],
   "source": []
  }
 ],
 "metadata": {
  "kernelspec": {
   "display_name": "base",
   "language": "python",
   "name": "python3"
  },
  "language_info": {
   "codemirror_mode": {
    "name": "ipython",
    "version": 3
   },
   "file_extension": ".py",
   "mimetype": "text/x-python",
   "name": "python",
   "nbconvert_exporter": "python",
   "pygments_lexer": "ipython3",
   "version": "3.11.5"
  }
 },
 "nbformat": 4,
 "nbformat_minor": 2
}
