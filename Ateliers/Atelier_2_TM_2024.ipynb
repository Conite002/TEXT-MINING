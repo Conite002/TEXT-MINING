{
 "cells": [
  {
   "cell_type": "markdown",
   "metadata": {
    "id": "nW4ZxVd1n7Kd"
   },
   "source": [
    "# Atelier 2 : Vectorisation"
   ]
  },
  {
   "cell_type": "markdown",
   "metadata": {
    "id": "JT1wV-Don7Kf"
   },
   "source": [
    "# 1.\tObjectif\n"
   ]
  },
  {
   "cell_type": "markdown",
   "metadata": {
    "id": "P20HNzoCn7Kf"
   },
   "source": [
    "L’objectif de cet atelier est de decouvrire les techniques courantes de vectorisation de documents text ansi que les differents algorithmes permettant de caculer la similarité ou la distance entre les document texte.\n"
   ]
  },
  {
   "cell_type": "markdown",
   "metadata": {
    "id": "5aCCUzLyn7Kg"
   },
   "source": [
    "# 2. Méthodes Basiques"
   ]
  },
  {
   "cell_type": "markdown",
   "metadata": {
    "id": "nS-xpif2n7Kg"
   },
   "source": [
    "Afin de simplifier l’analyse des données texte, il est recommandé d’utiliser des représentations plus consistantes qu’une simple segmentation. Il faut bien évidement réaliser des prétraitements telles que la racinisation, la lemmatisation, supprimer les redondances, supprimer les mots qui représentent le même sens. Mais c’est encore insuffisant pour obtenir un modèle représentatif qui reflète l’importance et le sens exacte de chaque mot dans une expression ou dans un document texte.\n",
    "Afin de repondre à ce besoin, plusieurs représentations vectorielles des termes contenus dans un texte sont possibles : one-hot-vector, Bag-of-words, TF-IDF, SVD, Word2vec... Nous utilisant scikitlearn pour réaliser ces différentes représentations vectorielles. Ça n’empêche pas que ces représentations vectorielles peuvent être obtenues en faisant du codage from scratch."
   ]
  },
  {
   "cell_type": "code",
   "execution_count": 2,
   "metadata": {
    "id": "auBV7JXQ8tkb"
   },
   "outputs": [],
   "source": [
    "# !pip install -U scikit-learn\n"
   ]
  },
  {
   "cell_type": "markdown",
   "metadata": {
    "id": "7ITkj6bbn7Kh"
   },
   "source": [
    "## 2.1. One-hot-vector"
   ]
  },
  {
   "cell_type": "markdown",
   "metadata": {
    "id": "EHi6XziRn7Kh"
   },
   "source": [
    "Le modèle commence par la création d’un vocabulaire à partir du corpus formé par tous les documents ou les expressions texte et determine par la suite pour chaque document/expression la présence de chaque terme du vocabulaire."
   ]
  },
  {
   "cell_type": "code",
   "execution_count": 2,
   "metadata": {
    "id": "BFpfILnQn7Kh"
   },
   "outputs": [
    {
     "name": "stdout",
     "output_type": "stream",
     "text": [
      "Frequence of word   (0, 8)\t1\n",
      "  (0, 3)\t1\n",
      "  (0, 6)\t1\n",
      "  (0, 2)\t1\n",
      "  (0, 1)\t1\n",
      "  (1, 8)\t1\n",
      "  (1, 3)\t1\n",
      "  (1, 6)\t1\n",
      "  (1, 1)\t1\n",
      "  (1, 5)\t2\n",
      "  (2, 6)\t1\n",
      "  (2, 0)\t1\n",
      "  (2, 7)\t1\n",
      "  (2, 4)\t1\n",
      "  (3, 8)\t1\n",
      "  (3, 3)\t1\n",
      "  (3, 6)\t1\n",
      "  (3, 2)\t1\n",
      "  (3, 1)\t1\n",
      "[[0 1 1 1 0 0 1 0 1]\n",
      " [0 1 0 1 0 1 1 0 1]\n",
      " [1 0 0 0 1 0 1 1 0]\n",
      " [0 1 1 1 0 0 1 0 1]]\n"
     ]
    }
   ],
   "source": [
    "from sklearn.feature_extraction.text import CountVectorizer\n",
    "\n",
    "from sklearn.preprocessing import Binarizer\n",
    "\n",
    "freq   = CountVectorizer()\n",
    "corpus = ['This is the first document.','This is the second second document.','And the third one.','Is this the first document?']\n",
    "corpus=[ sent.lower() for sent in corpus]\n",
    "corpus = freq.fit_transform(corpus)\n",
    "print(f\"Frequence of word {corpus}\")\n",
    "onehot = Binarizer()\n",
    "corpus = onehot.fit_transform(corpus.toarray())\n",
    "print(corpus)"
   ]
  },
  {
   "cell_type": "markdown",
   "metadata": {
    "id": "NUpeuGeSn7Ki"
   },
   "source": [
    "## 2.2.\tBeg-of-words"
   ]
  },
  {
   "cell_type": "markdown",
   "metadata": {
    "id": "JGz_XGYvn7Kj"
   },
   "source": [
    "Pour la représentation vectorielle Bag-of-Words, le modèle commence par la création d’un vocabulaire à partir du corpus formé par tous les documents ou les expressions texte et calcul par la suite pour chaque document/expression le nombre d’occurrences de chaque terme du vocabulaire.\n",
    "\n"
   ]
  },
  {
   "cell_type": "code",
   "execution_count": 3,
   "metadata": {
    "id": "LNIDwQCxn7Kj"
   },
   "outputs": [
    {
     "name": "stdout",
     "output_type": "stream",
     "text": [
      "[[0 1 1 1 0 0 1 0 1]\n",
      " [0 1 0 1 0 1 1 0 1]\n",
      " [1 0 0 0 1 0 1 1 0]\n",
      " [0 1 1 1 0 0 1 0 1]]\n",
      "['and' 'document' 'first' 'is' 'one' 'second' 'the' 'third' 'this']\n",
      "1\n"
     ]
    },
    {
     "data": {
      "text/plain": [
       "array([[0, 0, 0, 0, 0, 0, 0, 0, 0]], dtype=int64)"
      ]
     },
     "execution_count": 3,
     "metadata": {},
     "output_type": "execute_result"
    }
   ],
   "source": [
    "from sklearn.feature_extraction.text import CountVectorizer\n",
    "vectorizer = CountVectorizer()\n",
    "corpus = ['This is the first document.','This is the second  document.','And the third one.','Is this the first document?']\n",
    "corpus=[ sent.lower() for sent in corpus]\n",
    "X = vectorizer.fit_transform(corpus) #sparsy format\n",
    "print(X.toarray()) # explicit matrix format\n",
    "print(vectorizer.get_feature_names_out() ) #vocabulary as list of string\n",
    "print(vectorizer.vocabulary_.get('document')) #get column index of a specific term in the vocabulary\n",
    "vectorizer.transform(['Something completely new.']).toarray()#apply the model to a new document"
   ]
  },
  {
   "cell_type": "markdown",
   "metadata": {
    "id": "U0zkMHOin7Kj"
   },
   "source": [
    "## 2.3.\tTF-IDF"
   ]
  },
  {
   "cell_type": "markdown",
   "metadata": {
    "id": "RCqlEza-n7Kj"
   },
   "source": [
    "La représentation vectorielle Bag-of-Words considère la fréquence d’apparition des termes du vocabulaire dans chaque document du corpus séparément des autres. Cette représentation néglige l’importance du terme par rapport au corpus tout en entier.  TF-IDF (term-frequency times inverse document-frequency) est un autre modèle de représentation vectorielle des occurrences des termes d’un document en considérant également leurs occurrences dans tout le corpus. Cette approche va permettre de diminuer l’importance des termes les plus fréquents dans des documents texte tels que les stop words.\n",
    "\n",
    "tf-idf(t,d)=tf(t,d)×idf(t).\n",
    "\n",
    "idf(t)=log[(1+n)/(1+df(t))]+1\n",
    "n: la taille du corpus.\n",
    "df(t) :  le nombre de documents qui comportent le terme t."
   ]
  },
  {
   "cell_type": "code",
   "execution_count": 4,
   "metadata": {
    "id": "QXn0f4ACn7Kk"
   },
   "outputs": [
    {
     "name": "stdout",
     "output_type": "stream",
     "text": [
      "[[0.         0.43877674 0.54197657 0.43877674 0.         0.\n",
      "  0.35872874 0.         0.43877674]\n",
      " [0.         0.27230147 0.         0.27230147 0.         0.85322574\n",
      "  0.22262429 0.         0.27230147]\n",
      " [0.55280532 0.         0.         0.         0.55280532 0.\n",
      "  0.28847675 0.55280532 0.        ]\n",
      " [0.         0.43877674 0.54197657 0.43877674 0.         0.\n",
      "  0.35872874 0.         0.43877674]]\n",
      "['and' 'document' 'first' 'is' 'one' 'second' 'the' 'third' 'this']\n"
     ]
    }
   ],
   "source": [
    "from sklearn.feature_extraction.text import TfidfVectorizer\n",
    "corpus = ['This is the first document.','this is the second second Document.','And the third one.','Is this the first document?']\n",
    "vectorizer = TfidfVectorizer()\n",
    "X=vectorizer.fit_transform(corpus)\n",
    "print(X.toarray())\n",
    "print(vectorizer.get_feature_names_out() )\n",
    "\n",
    "#NB: le vecteur tf-idf obtenu sera normalisé pour obtenir des valeurs entre 0 et 1."
   ]
  },
  {
   "cell_type": "code",
   "execution_count": 5,
   "metadata": {},
   "outputs": [
    {
     "data": {
      "text/plain": [
       "(4, 9)"
      ]
     },
     "execution_count": 5,
     "metadata": {},
     "output_type": "execute_result"
    }
   ],
   "source": [
    "X.shape"
   ]
  },
  {
   "cell_type": "markdown",
   "metadata": {
    "id": "I_htBOtQn7Kk"
   },
   "source": [
    "## 2.4. Exercice 1: Detection du plagiarisme Approche syntaxique"
   ]
  },
  {
   "cell_type": "markdown",
   "metadata": {
    "id": "uBr2xsRZn7Kk"
   },
   "source": [
    "On va reprendre l'exercice de detection du plagiarisme en se bsant sur une representation vectorielle des document du corpus."
   ]
  },
  {
   "cell_type": "markdown",
   "metadata": {
    "id": "qaSxi4MQn7Kk"
   },
   "source": [
    "Pour la similarité syntaxique entre des vecteurs, plusieurs distances sont possibles à savoir : distance euclidienne, Cosine Jaccard, Levenshtein, Hamming…\n",
    "\n",
    "l'exemple ci-dessous permet de calculer la similarité syntaxique entre les documents en se basant sur une representation vectorielle en TFIDF avec la distance euclidienne et la distance cosine."
   ]
  },
  {
   "cell_type": "code",
   "execution_count": 6,
   "metadata": {
    "id": "8ghsOP4mn7Kk"
   },
   "outputs": [
    {
     "name": "stdout",
     "output_type": "stream",
     "text": [
      "[[0.         1.05990529 1.33904078 0.        ]]\n",
      "[[0.         0.56169962 0.8965151  0.        ]]\n"
     ]
    }
   ],
   "source": [
    "from sklearn.metrics.pairwise import cosine_distances,euclidean_distances\n",
    "from sklearn.metrics.pairwise import cosine_similarity\n",
    "\n",
    "tfidf_vectorizer = TfidfVectorizer()\n",
    "corpus = ['This is the first document.','This is the second second document.','And the third one.','Is this the first document?']\n",
    "tfidf_matrix = tfidf_vectorizer.fit_transform(corpus)\n",
    "tfidf_matrix.shape\n",
    "\n",
    "#compute similarity for first sentence with rest of the sentences\n",
    "print(euclidean_distances(tfidf_matrix[0],tfidf_matrix))\n",
    "print(cosine_distances(tfidf_matrix[0],tfidf_matrix))\n"
   ]
  },
  {
   "cell_type": "code",
   "execution_count": null,
   "metadata": {},
   "outputs": [],
   "source": []
  },
  {
   "cell_type": "code",
   "execution_count": 7,
   "metadata": {},
   "outputs": [
    {
     "data": {
      "text/plain": [
       "array(['and', 'document', 'first', 'is', 'one', 'second', 'the', 'third',\n",
       "       'this'], dtype=object)"
      ]
     },
     "execution_count": 7,
     "metadata": {},
     "output_type": "execute_result"
    }
   ],
   "source": [
    "tfidf_vectorizer.get_feature_names_out()"
   ]
  },
  {
   "cell_type": "code",
   "execution_count": 8,
   "metadata": {},
   "outputs": [],
   "source": [
    "import glob, os\n",
    "import pandas as pd\n",
    "import re\n",
    "import string\n",
    "from nltk.corpus import stopwords\n",
    "from nltk.tokenize import word_tokenize\n",
    "from nltk.stem import PorterStemmer\n",
    "\n",
    "\n",
    "path = 'c:/Users/dscon/Documents/COURS UM6P/S3/TEXT-MINING/final_df.csv'\n",
    "df = pd.read_csv(path)\n",
    "\n",
    "\n",
    "stop_words = set(stopwords.words('english'))\n",
    "\n",
    "def preprocess_text(text):\n",
    "    text = text.lower()\n",
    "    text = text.translate(str.maketrans('', '', string.punctuation))\n",
    "    text = re.sub(r'\\d+', '', text)\n",
    "    words = word_tokenize(text)\n",
    "    words = [word for word in words if word not in stop_words]\n",
    "    stemmer = PorterStemmer()\n",
    "    words = [stemmer.stem(word) for word in words]\n",
    "    return ' '.join(words)"
   ]
  },
  {
   "cell_type": "code",
   "execution_count": 9,
   "metadata": {},
   "outputs": [],
   "source": [
    "def classify_similarity(similarity):\n",
    "    if similarity >= 0.75:\n",
    "        return 'cut'      \n",
    "    elif similarity >= 0.50:\n",
    "        return 'heavy'\n",
    "    elif similarity >= 0.25:\n",
    "        return 'light'\n",
    "    else:\n",
    "        return 'non'"
   ]
  },
  {
   "cell_type": "code",
   "execution_count": 10,
   "metadata": {},
   "outputs": [
    {
     "data": {
      "text/html": [
       "<div>\n",
       "<style scoped>\n",
       "    .dataframe tbody tr th:only-of-type {\n",
       "        vertical-align: middle;\n",
       "    }\n",
       "\n",
       "    .dataframe tbody tr th {\n",
       "        vertical-align: top;\n",
       "    }\n",
       "\n",
       "    .dataframe thead th {\n",
       "        text-align: right;\n",
       "    }\n",
       "</style>\n",
       "<table border=\"1\" class=\"dataframe\">\n",
       "  <thead>\n",
       "    <tr style=\"text-align: right;\">\n",
       "      <th></th>\n",
       "      <th>User</th>\n",
       "      <th>Task</th>\n",
       "      <th>OResponse</th>\n",
       "      <th>UResponse</th>\n",
       "      <th>Category</th>\n",
       "    </tr>\n",
       "  </thead>\n",
       "  <tbody>\n",
       "    <tr>\n",
       "      <th>0</th>\n",
       "      <td>g0pA</td>\n",
       "      <td>a</td>\n",
       "      <td>In object-oriented programming, inheritance is...</td>\n",
       "      <td>Inheritance is a basic concept of Object-Orien...</td>\n",
       "      <td>non</td>\n",
       "    </tr>\n",
       "    <tr>\n",
       "      <th>1</th>\n",
       "      <td>g0pB</td>\n",
       "      <td>a</td>\n",
       "      <td>In object-oriented programming, inheritance is...</td>\n",
       "      <td>Inheritance is a basic concept in object orien...</td>\n",
       "      <td>non</td>\n",
       "    </tr>\n",
       "    <tr>\n",
       "      <th>2</th>\n",
       "      <td>g0pC</td>\n",
       "      <td>a</td>\n",
       "      <td>In object-oriented programming, inheritance is...</td>\n",
       "      <td>inheritance in object oriented programming is ...</td>\n",
       "      <td>heavy</td>\n",
       "    </tr>\n",
       "    <tr>\n",
       "      <th>3</th>\n",
       "      <td>g0pD</td>\n",
       "      <td>a</td>\n",
       "      <td>In object-oriented programming, inheritance is...</td>\n",
       "      <td>Inheritance in object oriented programming is ...</td>\n",
       "      <td>cut</td>\n",
       "    </tr>\n",
       "    <tr>\n",
       "      <th>4</th>\n",
       "      <td>g0pE</td>\n",
       "      <td>a</td>\n",
       "      <td>In object-oriented programming, inheritance is...</td>\n",
       "      <td>In object-oriented programming, inheritance is...</td>\n",
       "      <td>light</td>\n",
       "    </tr>\n",
       "    <tr>\n",
       "      <th>...</th>\n",
       "      <td>...</td>\n",
       "      <td>...</td>\n",
       "      <td>...</td>\n",
       "      <td>...</td>\n",
       "      <td>...</td>\n",
       "    </tr>\n",
       "    <tr>\n",
       "      <th>90</th>\n",
       "      <td>g3pC</td>\n",
       "      <td>e</td>\n",
       "      <td>In mathematics and computer science, dynamic p...</td>\n",
       "      <td>In computer science and mathematics, dynamic p...</td>\n",
       "      <td>light</td>\n",
       "    </tr>\n",
       "    <tr>\n",
       "      <th>91</th>\n",
       "      <td>g4pB</td>\n",
       "      <td>e</td>\n",
       "      <td>In mathematics and computer science, dynamic p...</td>\n",
       "      <td>In mathematics and computer science, dynamic p...</td>\n",
       "      <td>cut</td>\n",
       "    </tr>\n",
       "    <tr>\n",
       "      <th>92</th>\n",
       "      <td>g4pC</td>\n",
       "      <td>e</td>\n",
       "      <td>In mathematics and computer science, dynamic p...</td>\n",
       "      <td>In mathematics and computer science, dynamic p...</td>\n",
       "      <td>light</td>\n",
       "    </tr>\n",
       "    <tr>\n",
       "      <th>93</th>\n",
       "      <td>g4pD</td>\n",
       "      <td>e</td>\n",
       "      <td>In mathematics and computer science, dynamic p...</td>\n",
       "      <td>Dynamic programming is a method of providing s...</td>\n",
       "      <td>heavy</td>\n",
       "    </tr>\n",
       "    <tr>\n",
       "      <th>94</th>\n",
       "      <td>g4pE</td>\n",
       "      <td>e</td>\n",
       "      <td>In mathematics and computer science, dynamic p...</td>\n",
       "      <td>Dynamic programming is a method for efficient...</td>\n",
       "      <td>non</td>\n",
       "    </tr>\n",
       "  </tbody>\n",
       "</table>\n",
       "<p>95 rows × 5 columns</p>\n",
       "</div>"
      ],
      "text/plain": [
       "    User Task                                          OResponse  \\\n",
       "0   g0pA    a  In object-oriented programming, inheritance is...   \n",
       "1   g0pB    a  In object-oriented programming, inheritance is...   \n",
       "2   g0pC    a  In object-oriented programming, inheritance is...   \n",
       "3   g0pD    a  In object-oriented programming, inheritance is...   \n",
       "4   g0pE    a  In object-oriented programming, inheritance is...   \n",
       "..   ...  ...                                                ...   \n",
       "90  g3pC    e  In mathematics and computer science, dynamic p...   \n",
       "91  g4pB    e  In mathematics and computer science, dynamic p...   \n",
       "92  g4pC    e  In mathematics and computer science, dynamic p...   \n",
       "93  g4pD    e  In mathematics and computer science, dynamic p...   \n",
       "94  g4pE    e  In mathematics and computer science, dynamic p...   \n",
       "\n",
       "                                            UResponse Category  \n",
       "0   Inheritance is a basic concept of Object-Orien...      non  \n",
       "1   Inheritance is a basic concept in object orien...      non  \n",
       "2   inheritance in object oriented programming is ...    heavy  \n",
       "3   Inheritance in object oriented programming is ...      cut  \n",
       "4   In object-oriented programming, inheritance is...    light  \n",
       "..                                                ...      ...  \n",
       "90  In computer science and mathematics, dynamic p...    light  \n",
       "91  In mathematics and computer science, dynamic p...      cut  \n",
       "92  In mathematics and computer science, dynamic p...    light  \n",
       "93  Dynamic programming is a method of providing s...    heavy  \n",
       "94   Dynamic programming is a method for efficient...      non  \n",
       "\n",
       "[95 rows x 5 columns]"
      ]
     },
     "execution_count": 10,
     "metadata": {},
     "output_type": "execute_result"
    }
   ],
   "source": [
    "sub_df = df[['User', 'Task', 'OResponse', 'UResponse', 'Category']]\n",
    "sub_df"
   ]
  },
  {
   "cell_type": "markdown",
   "metadata": {
    "id": "ZmEHJhf2n7Kl"
   },
   "source": [
    "* Realiser la même chose en se basant sur les representations OHV et BOW?\n",
    "* Comparer les performances des trois methodes en terme de temps d'execution et precision?"
   ]
  },
  {
   "cell_type": "markdown",
   "metadata": {},
   "source": [
    "**2. Méthode OHV, BOW, TFIDF**"
   ]
  },
  {
   "cell_type": "code",
   "execution_count": 12,
   "metadata": {},
   "outputs": [
    {
     "name": "stdout",
     "output_type": "stream",
     "text": [
      "Temps d'exécution total : 0.67 secondes\n",
      "Précision TF-IDF : 55.79% --- Temps d'exécution : 0.30 secondes\n",
      "Précision OHV : 21.05% --- Temps d'exécution : 0.13 secondes\n",
      "Précision BOW : 46.32% -- Temps d'exécution : 0.23 secondes\n"
     ]
    },
    {
     "name": "stderr",
     "output_type": "stream",
     "text": [
      "C:\\Users\\dscon\\AppData\\Local\\Temp\\ipykernel_14856\\4044609085.py:76: SettingWithCopyWarning: \n",
      "A value is trying to be set on a copy of a slice from a DataFrame.\n",
      "Try using .loc[row_indexer,col_indexer] = value instead\n",
      "\n",
      "See the caveats in the documentation: https://pandas.pydata.org/pandas-docs/stable/user_guide/indexing.html#returning-a-view-versus-a-copy\n",
      "  df['TFIDF_Similarity'] = tfidf_similarities\n",
      "C:\\Users\\dscon\\AppData\\Local\\Temp\\ipykernel_14856\\4044609085.py:77: SettingWithCopyWarning: \n",
      "A value is trying to be set on a copy of a slice from a DataFrame.\n",
      "Try using .loc[row_indexer,col_indexer] = value instead\n",
      "\n",
      "See the caveats in the documentation: https://pandas.pydata.org/pandas-docs/stable/user_guide/indexing.html#returning-a-view-versus-a-copy\n",
      "  df['TFIDF_Category'] = [classify_similarity(sim) for sim in tfidf_similarities]\n",
      "C:\\Users\\dscon\\AppData\\Local\\Temp\\ipykernel_14856\\4044609085.py:79: SettingWithCopyWarning: \n",
      "A value is trying to be set on a copy of a slice from a DataFrame.\n",
      "Try using .loc[row_indexer,col_indexer] = value instead\n",
      "\n",
      "See the caveats in the documentation: https://pandas.pydata.org/pandas-docs/stable/user_guide/indexing.html#returning-a-view-versus-a-copy\n",
      "  df['OHV_Similarity'] = ohv_similarities\n",
      "C:\\Users\\dscon\\AppData\\Local\\Temp\\ipykernel_14856\\4044609085.py:80: SettingWithCopyWarning: \n",
      "A value is trying to be set on a copy of a slice from a DataFrame.\n",
      "Try using .loc[row_indexer,col_indexer] = value instead\n",
      "\n",
      "See the caveats in the documentation: https://pandas.pydata.org/pandas-docs/stable/user_guide/indexing.html#returning-a-view-versus-a-copy\n",
      "  df['OHV_Category'] = [classify_similarity(sim) for sim in ohv_similarities]\n",
      "C:\\Users\\dscon\\AppData\\Local\\Temp\\ipykernel_14856\\4044609085.py:82: SettingWithCopyWarning: \n",
      "A value is trying to be set on a copy of a slice from a DataFrame.\n",
      "Try using .loc[row_indexer,col_indexer] = value instead\n",
      "\n",
      "See the caveats in the documentation: https://pandas.pydata.org/pandas-docs/stable/user_guide/indexing.html#returning-a-view-versus-a-copy\n",
      "  df['BOW_Similarity'] = bow_similarities\n",
      "C:\\Users\\dscon\\AppData\\Local\\Temp\\ipykernel_14856\\4044609085.py:83: SettingWithCopyWarning: \n",
      "A value is trying to be set on a copy of a slice from a DataFrame.\n",
      "Try using .loc[row_indexer,col_indexer] = value instead\n",
      "\n",
      "See the caveats in the documentation: https://pandas.pydata.org/pandas-docs/stable/user_guide/indexing.html#returning-a-view-versus-a-copy\n",
      "  df['BOW_Category'] = [classify_similarity(sim) for sim in bow_similarities]\n"
     ]
    },
    {
     "data": {
      "text/html": [
       "<div>\n",
       "<style scoped>\n",
       "    .dataframe tbody tr th:only-of-type {\n",
       "        vertical-align: middle;\n",
       "    }\n",
       "\n",
       "    .dataframe tbody tr th {\n",
       "        vertical-align: top;\n",
       "    }\n",
       "\n",
       "    .dataframe thead th {\n",
       "        text-align: right;\n",
       "    }\n",
       "</style>\n",
       "<table border=\"1\" class=\"dataframe\">\n",
       "  <thead>\n",
       "    <tr style=\"text-align: right;\">\n",
       "      <th></th>\n",
       "      <th>User</th>\n",
       "      <th>Task</th>\n",
       "      <th>OResponse</th>\n",
       "      <th>UResponse</th>\n",
       "      <th>Category</th>\n",
       "      <th>TFIDF_Similarity</th>\n",
       "      <th>TFIDF_Category</th>\n",
       "      <th>OHV_Similarity</th>\n",
       "      <th>OHV_Category</th>\n",
       "      <th>BOW_Similarity</th>\n",
       "      <th>BOW_Category</th>\n",
       "    </tr>\n",
       "  </thead>\n",
       "  <tbody>\n",
       "    <tr>\n",
       "      <th>0</th>\n",
       "      <td>g0pA</td>\n",
       "      <td>a</td>\n",
       "      <td>In object-oriented programming, inheritance is...</td>\n",
       "      <td>Inheritance is a basic concept of Object-Orien...</td>\n",
       "      <td>non</td>\n",
       "      <td>0.138380</td>\n",
       "      <td>non</td>\n",
       "      <td>0.291059</td>\n",
       "      <td>light</td>\n",
       "      <td>0.201791</td>\n",
       "      <td>non</td>\n",
       "    </tr>\n",
       "    <tr>\n",
       "      <th>1</th>\n",
       "      <td>g0pB</td>\n",
       "      <td>a</td>\n",
       "      <td>In object-oriented programming, inheritance is...</td>\n",
       "      <td>Inheritance is a basic concept in object orien...</td>\n",
       "      <td>non</td>\n",
       "      <td>0.152345</td>\n",
       "      <td>non</td>\n",
       "      <td>0.300690</td>\n",
       "      <td>light</td>\n",
       "      <td>0.207600</td>\n",
       "      <td>non</td>\n",
       "    </tr>\n",
       "    <tr>\n",
       "      <th>2</th>\n",
       "      <td>g0pC</td>\n",
       "      <td>a</td>\n",
       "      <td>In object-oriented programming, inheritance is...</td>\n",
       "      <td>inheritance in object oriented programming is ...</td>\n",
       "      <td>heavy</td>\n",
       "      <td>0.251135</td>\n",
       "      <td>light</td>\n",
       "      <td>0.370319</td>\n",
       "      <td>light</td>\n",
       "      <td>0.293016</td>\n",
       "      <td>light</td>\n",
       "    </tr>\n",
       "    <tr>\n",
       "      <th>3</th>\n",
       "      <td>g0pD</td>\n",
       "      <td>a</td>\n",
       "      <td>In object-oriented programming, inheritance is...</td>\n",
       "      <td>Inheritance in object oriented programming is ...</td>\n",
       "      <td>cut</td>\n",
       "      <td>0.508745</td>\n",
       "      <td>heavy</td>\n",
       "      <td>0.578006</td>\n",
       "      <td>heavy</td>\n",
       "      <td>0.529381</td>\n",
       "      <td>heavy</td>\n",
       "    </tr>\n",
       "    <tr>\n",
       "      <th>4</th>\n",
       "      <td>g0pE</td>\n",
       "      <td>a</td>\n",
       "      <td>In object-oriented programming, inheritance is...</td>\n",
       "      <td>In object-oriented programming, inheritance is...</td>\n",
       "      <td>light</td>\n",
       "      <td>0.822884</td>\n",
       "      <td>cut</td>\n",
       "      <td>0.837157</td>\n",
       "      <td>cut</td>\n",
       "      <td>0.826927</td>\n",
       "      <td>cut</td>\n",
       "    </tr>\n",
       "  </tbody>\n",
       "</table>\n",
       "</div>"
      ],
      "text/plain": [
       "   User Task                                          OResponse  \\\n",
       "0  g0pA    a  In object-oriented programming, inheritance is...   \n",
       "1  g0pB    a  In object-oriented programming, inheritance is...   \n",
       "2  g0pC    a  In object-oriented programming, inheritance is...   \n",
       "3  g0pD    a  In object-oriented programming, inheritance is...   \n",
       "4  g0pE    a  In object-oriented programming, inheritance is...   \n",
       "\n",
       "                                           UResponse Category  \\\n",
       "0  Inheritance is a basic concept of Object-Orien...      non   \n",
       "1  Inheritance is a basic concept in object orien...      non   \n",
       "2  inheritance in object oriented programming is ...    heavy   \n",
       "3  Inheritance in object oriented programming is ...      cut   \n",
       "4  In object-oriented programming, inheritance is...    light   \n",
       "\n",
       "   TFIDF_Similarity TFIDF_Category  OHV_Similarity OHV_Category  \\\n",
       "0          0.138380            non        0.291059        light   \n",
       "1          0.152345            non        0.300690        light   \n",
       "2          0.251135          light        0.370319        light   \n",
       "3          0.508745          heavy        0.578006        heavy   \n",
       "4          0.822884            cut        0.837157          cut   \n",
       "\n",
       "   BOW_Similarity BOW_Category  \n",
       "0        0.201791          non  \n",
       "1        0.207600          non  \n",
       "2        0.293016        light  \n",
       "3        0.529381        heavy  \n",
       "4        0.826927          cut  "
      ]
     },
     "execution_count": 12,
     "metadata": {},
     "output_type": "execute_result"
    }
   ],
   "source": [
    "import pandas as pd\n",
    "from sklearn.feature_extraction.text import TfidfVectorizer, CountVectorizer\n",
    "from sklearn.metrics.pairwise import cosine_similarity\n",
    "import numpy as np\n",
    "import time\n",
    "\n",
    "\n",
    "\n",
    "# Fonction de classification en fonction de la similarité\n",
    "def classify_similarity(similarity):\n",
    "    if similarity >= 0.75:\n",
    "        return 'cut'\n",
    "    elif similarity >= 0.50:\n",
    "        return 'heavy'\n",
    "    elif similarity >= 0.25:\n",
    "        return 'light'\n",
    "    else:\n",
    "        return 'non'\n",
    "\n",
    "def split_into_segments(text):\n",
    "    return text.split('.')  # Séparation par les points pour obtenir des sous-phrases\n",
    "\n",
    "# Fonction de calcul de similarité avec décomposition et fusion des résultats\n",
    "def calculate_combined_similarity(df, vectorizer):\n",
    "    combined_similarities = []\n",
    "    \n",
    "    for i, row in df.iterrows():\n",
    "        student_segments = split_into_segments(row['OResponse'])\n",
    "        original_segments = split_into_segments(row['UResponse'])\n",
    "        \n",
    "        student_vectors = vectorizer.fit_transform(student_segments)\n",
    "        original_vectors = vectorizer.transform(original_segments)\n",
    "        \n",
    "        segment_similarities = cosine_similarity(student_vectors, original_vectors)\n",
    "        combined_similarity = np.mean(segment_similarities.max(axis=1))\n",
    "        combined_similarities.append(combined_similarity)\n",
    "    \n",
    "    return np.array(combined_similarities)\n",
    "\n",
    "# Fonctions de similarité pour chaque modèle\n",
    "def tfidf_similarity(df):\n",
    "    tfidf_vectorizer = TfidfVectorizer(ngram_range=(1, 3))\n",
    "    return calculate_combined_similarity(df, tfidf_vectorizer)\n",
    "\n",
    "def ohv_similarity(df):\n",
    "    ohv_vectorizer = CountVectorizer(binary=True)\n",
    "    return calculate_combined_similarity(df, ohv_vectorizer)\n",
    "\n",
    "def bow_similarity(df):\n",
    "    bow_vectorizer = CountVectorizer(ngram_range=(1, 3))\n",
    "    return calculate_combined_similarity(df, bow_vectorizer)\n",
    "\n",
    "# Appliquer et concaténer les classifications\n",
    "def apply_and_concat_classifications(df):\n",
    "    # Calculer les similarités et classifications pour chaque modèle et mesurer le temps d'exécution\n",
    "    \n",
    "    start_time = time.time()\n",
    "    tfidf_similarities = tfidf_similarity(df)\n",
    "    end_time_tfidf = time.time() - start_time\n",
    "    \n",
    "    start_time = time.time()\n",
    "    ohv_similarities = ohv_similarity(df)\n",
    "    end_time_ohv = time.time() - start_time\n",
    "    \n",
    "    start_time = time.time()\n",
    "    bow_similarities = bow_similarity(df)\n",
    "    end_time_bow = time.time() - start_time\n",
    "    times = {\n",
    "        'TFIDF_Time': end_time_tfidf,\n",
    "        'OHV_Time': end_time_ohv,\n",
    "        'BOW_Time': end_time_bow\n",
    "    }\n",
    "    \n",
    "\n",
    "    # Générer les classifications\n",
    "    df['TFIDF_Similarity'] = tfidf_similarities\n",
    "    df['TFIDF_Category'] = [classify_similarity(sim) for sim in tfidf_similarities]\n",
    "\n",
    "    df['OHV_Similarity'] = ohv_similarities\n",
    "    df['OHV_Category'] = [classify_similarity(sim) for sim in ohv_similarities]\n",
    "\n",
    "    df['BOW_Similarity'] = bow_similarities\n",
    "    df['BOW_Category'] = [classify_similarity(sim) for sim in bow_similarities]\n",
    "\n",
    "    return df, times\n",
    "\n",
    "\n",
    "def accuracy_score(y_true, y_pred):\n",
    "    return sum(y_true == y_pred) / len(y_true)\n",
    "\n",
    "def compute_accuracies(df):\n",
    "    tfidf_accuracy = accuracy_score(df['Category'], df['TFIDF_Category'])\n",
    "    ohv_accuracy = accuracy_score(df['Category'], df['OHV_Category'])\n",
    "    bow_accuracy = accuracy_score(df['Category'], df['BOW_Category'])\n",
    "    \n",
    "    return {\n",
    "        'TFIDF_Accuracy': tfidf_accuracy,\n",
    "        'OHV_Accuracy': ohv_accuracy,\n",
    "        'BOW_Accuracy': bow_accuracy\n",
    "    }\n",
    "\n",
    "# Calculer la précision pour chaque modèle\n",
    "def calculate_accuracy(df):\n",
    "    tfidf_accuracy = accuracy_score(df['Category'], df['TFIDF_Category'])\n",
    "    ohv_accuracy = accuracy_score(df['Category'], df['OHV_Category'])\n",
    "    bow_accuracy = accuracy_score(df['Category'], df['BOW_Category'])\n",
    "\n",
    "    return tfidf_accuracy, ohv_accuracy, bow_accuracy\n",
    "\n",
    "# Appliquer les classifications et mesurer la précision\n",
    "start_time = time.time()\n",
    "result_df, times = apply_and_concat_classifications(sub_df)\n",
    "execution_time = time.time() - start_time\n",
    "\n",
    "tfidf_accuracy, ohv_accuracy, bow_accuracy = calculate_accuracy(result_df)\n",
    "\n",
    "print(f\"Temps d'exécution total : {execution_time:.2f} secondes\")\n",
    "print(f\"Précision TF-IDF : {tfidf_accuracy:.2%} --- Temps d'exécution : {times['TFIDF_Time']:.2f} secondes\")\n",
    "print(f\"Précision OHV : {ohv_accuracy:.2%} --- Temps d'exécution : {times['OHV_Time']:.2f} secondes\")\n",
    "print(f\"Précision BOW : {bow_accuracy:.2%} -- Temps d'exécution : {times['BOW_Time']:.2f} secondes\")\n",
    "result_df.head()"
   ]
  },
  {
   "cell_type": "markdown",
   "metadata": {},
   "source": [
    "**`Resultats`**\n",
    "\n",
    "Temps d'exécution total : 0.85 secondes\n",
    "* Précision TF-IDF : 55.79% --- Temps d'exécution : 0.34 secondes\n",
    "* Précision OHV : 21.05% --- Temps d'exécution : 0.23 secondes\n",
    "* Précision BOW : 46.32% -- Temps d'exécution : 0.29 secondes\n",
    "\n",
    "\n",
    "**`Conclusion`**\n",
    "La méthode **TF-IDF** permet de mieux représenter les vecteurs comparativement aux autres methodes (BOW, OHV) "
   ]
  },
  {
   "cell_type": "code",
   "execution_count": 13,
   "metadata": {},
   "outputs": [
    {
     "data": {
      "image/png": "[encoded data removed]",
      "text/plain": [
       "<Figure size 640x480 with 1 Axes>"
      ]
     },
     "metadata": {},
     "output_type": "display_data"
    }
   ],
   "source": [
    "# plot the accuracy of each model\n",
    "import matplotlib.pyplot as plt\n",
    "\n",
    "accuracies = [tfidf_accuracy, ohv_accuracy, bow_accuracy]\n",
    "models = ['TF-IDF', 'OHV', 'BOW']\n",
    "\n",
    "plt.bar(models, accuracies)\n",
    "plt.xlabel('Model')\n",
    "plt.ylabel('Accuracy')\n",
    "plt.title('Accuracy of each model')\n",
    "# show labels on top of bars\n",
    "for i, acc in enumerate(accuracies):\n",
    "    plt.text(i, acc, f'{acc:.2%}', ha='center', va='bottom')\n",
    "plt.ylim(0, 1)\n",
    "\n",
    "plt.show()\n"
   ]
  },
  {
   "cell_type": "markdown",
   "metadata": {
    "id": "F02K82EFn7Km"
   },
   "source": [
    "# 3.\tMethodes Avancées\n"
   ]
  },
  {
   "cell_type": "markdown",
   "metadata": {
    "id": "wopGemCzn7Kp"
   },
   "source": [
    "* Installer Gensim: pip install --upgrade gensim\n",
    "* Recuperer le dataset du plagiarisme?\n",
    "* Réaliser les différentes tâches de prétraitement?\n",
    "* Generer le vocabulaire sous forme d'une liste de termes distincts qui est triée dans l'ordre lexicograpique\n"
   ]
  },
  {
   "cell_type": "code",
   "execution_count": 14,
   "metadata": {},
   "outputs": [],
   "source": [
    "import re\n",
    "import string\n",
    "from nltk.corpus import stopwords\n",
    "from nltk.tokenize import word_tokenize\n",
    "from nltk.stem import WordNetLemmatizer\n",
    "import glob\n",
    "import os\n",
    "import pandas as pd\n",
    "\n",
    "sub_df_step_3 = df[['User', 'Task', 'OResponse', 'UResponse', 'Category']]\n",
    "\n",
    "def preprocess_text(text):\n",
    "    text = text.lower()\n",
    "    text = text.translate(str.maketrans('', '', string.punctuation))\n",
    "    text = re.sub(r'\\d+', '', text)\n",
    "    words = word_tokenize(text)\n",
    "    words = [word for word in words if word not in stop_words]\n",
    "    return ' '.join(words)\n",
    "\n",
    "corpus = sub_df_step_3['UResponse'].apply(preprocess_text).tolist()\n",
    "\n",
    "lemmatizer = WordNetLemmatizer()\n",
    "\n",
    "corpus_lemmatized = [' '.join([lemmatizer.lemmatize(word) for word in word_tokenize(text)]) for text in corpus]\n",
    "vocabulary = list(set(' '.join(corpus_lemmatized).split()))\n",
    "vocabulary.sort()\n",
    "\n"
   ]
  },
  {
   "cell_type": "code",
   "execution_count": 15,
   "metadata": {},
   "outputs": [
    {
     "data": {
      "text/plain": [
       "['abab',\n",
       " 'ability',\n",
       " 'able',\n",
       " 'abstraction',\n",
       " 'abstractly',\n",
       " 'abused',\n",
       " 'academic',\n",
       " 'acceptable',\n",
       " 'accepted',\n",
       " 'access']"
      ]
     },
     "execution_count": 15,
     "metadata": {},
     "output_type": "execute_result"
    }
   ],
   "source": [
    "vocabulary[:10]"
   ]
  },
  {
   "cell_type": "markdown",
   "metadata": {
    "id": "kp7kUitTn7Kp"
   },
   "source": [
    "## 3.2.\tApproche à base des Cooccurrences"
   ]
  },
  {
   "cell_type": "code",
   "execution_count": 16,
   "metadata": {
    "id": "vzij04WeAclZ"
   },
   "outputs": [],
   "source": [
    "# !pip install nltk\n",
    "import nltk\n",
    "# nltk.download('all')"
   ]
  },
  {
   "cell_type": "markdown",
   "metadata": {
    "id": "HHlhd9RBn7Kq"
   },
   "source": [
    "* Construire une matrice carrée des cooccurrences (Terme à Terme) pour  une fenêtre de taille 𝑛 en considérant les n mots  avant et après le mot  central de la fenêtre.\n"
   ]
  },
  {
   "cell_type": "code",
   "execution_count": 17,
   "metadata": {},
   "outputs": [
    {
     "data": {
      "text/plain": [
       "['and', 'document', 'first', 'is', 'one', 'second', 'third', 'this']"
      ]
     },
     "execution_count": 17,
     "metadata": {},
     "output_type": "execute_result"
    }
   ],
   "source": [
    "from nltk.tokenize import word_tokenize\n",
    "from nltk.tokenize import word_tokenize\n",
    "from nltk.tokenize import sent_tokenize\n",
    "from nltk.stem import WordNetLemmatizer\n",
    "from nltk.corpus import stopwords\n",
    "lemmmatizer=WordNetLemmatizer()\n",
    "\n",
    "\n",
    "\n",
    "corpus = ['This is the first document.','This is the second second document.','And the third one.','Is this the first document?']\n",
    "corpus_lemetized=[]\n",
    "\n",
    "for doc in corpus:\n",
    "    words = word_tokenize(doc)\n",
    "    words = [lemmmatizer.lemmatize(word.lower()) for word in words if(not word in set(stopwords.words('english')) and  word.isalpha())]\n",
    "    corpus_lemetized.append(words)\n",
    "\n",
    "\n",
    "vocabulary = []\n",
    "for doc in corpus_lemetized:\n",
    "    for word in doc:\n",
    "        if word.lower() not in vocabulary:\n",
    "            vocabulary.append(word.lower())\n",
    "vocabulary.sort()\n",
    "vocabulary\n"
   ]
  },
  {
   "cell_type": "code",
   "execution_count": 18,
   "metadata": {
    "id": "BfoW0XGmn7Kq"
   },
   "outputs": [],
   "source": [
    "V=len(vocabulary)\n",
    "import numpy as np\n",
    "\n",
    "M=np.zeros((V,V))\n",
    "n=4\n",
    "for doc in corpus_lemetized:\n",
    "    T=len(doc)-2*n+1 if n<len(doc) else 1\n",
    "    for t in range(T):\n",
    "        borne=len(doc) if t+n>len(doc) else t+n\n",
    "        for w1 in doc[t:borne]:\n",
    "            for w2 in doc[t:borne]:\n",
    "                if w1!=w2:\n",
    "                    M[vocabulary.index(w1)][vocabulary.index(w2)]+=1"
   ]
  },
  {
   "cell_type": "code",
   "execution_count": 19,
   "metadata": {},
   "outputs": [],
   "source": [
    "from sklearn.decomposition import TruncatedSVD\n",
    "from sklearn.preprocessing import Normalizer\n",
    "from sklearn.pipeline import make_pipeline\n",
    "svd = TruncatedSVD(n_components=2)\n",
    "normalizer = Normalizer(copy=False)\n",
    "lsa = make_pipeline(svd, normalizer)\n",
    "vectors = lsa.fit_transform(M)\n"
   ]
  },
  {
   "cell_type": "markdown",
   "metadata": {},
   "source": [
    "* Construire une matrice carrée des cooccurrences (Terme à Terme) pour  une fenêtre de taille 𝑛 en considérant les n mots  avant et après le mot  central de la fenêtre.\n"
   ]
  },
  {
   "cell_type": "code",
   "execution_count": 20,
   "metadata": {},
   "outputs": [
    {
     "name": "stdout",
     "output_type": "stream",
     "text": [
      "Matrice de cooccurrences (Terme à Terme) :\n",
      "[[0. 0. 0. 0. 1. 0. 1. 0.]\n",
      " [0. 0. 2. 1. 0. 2. 0. 2.]\n",
      " [0. 2. 0. 1. 0. 0. 0. 1.]\n",
      " [0. 1. 1. 0. 0. 0. 0. 0.]\n",
      " [1. 0. 0. 0. 0. 0. 1. 0.]\n",
      " [0. 2. 0. 0. 0. 0. 0. 2.]\n",
      " [1. 0. 0. 0. 1. 0. 0. 0.]\n",
      " [0. 2. 1. 0. 0. 2. 0. 0.]]\n"
     ]
    }
   ],
   "source": [
    "print(\"Matrice de cooccurrences (Terme à Terme) :\")\n",
    "print(M)"
   ]
  },
  {
   "cell_type": "markdown",
   "metadata": {
    "id": "3kd5uhGAn7Kr"
   },
   "source": [
    "* Appliquer La SVD pour obtenir une representation vectorielle des differents mots du vocabulaire dans un espace de dimension 2."
   ]
  },
  {
   "cell_type": "code",
   "execution_count": 21,
   "metadata": {
    "id": "b2a1-5qhn7Kr"
   },
   "outputs": [],
   "source": [
    "from sklearn.decomposition import TruncatedSVD\n",
    "from sklearn.preprocessing import Normalizer\n",
    "from sklearn.pipeline import make_pipeline\n",
    "svd = TruncatedSVD(n_components=2)\n",
    "normalizer = Normalizer(copy=False)\n",
    "lsa = make_pipeline(svd, normalizer)\n",
    "vectors = lsa.fit_transform(M)\n"
   ]
  },
  {
   "cell_type": "markdown",
   "metadata": {
    "id": "tjjO8y8fn7Kr"
   },
   "source": [
    "* En se servant de la bibliotheque matplotlib Tracer les vecteurs obtenus dans un plan 2D"
   ]
  },
  {
   "cell_type": "code",
   "execution_count": 22,
   "metadata": {},
   "outputs": [
    {
     "data": {
      "image/png": "[encoded data removed]",
      "text/plain": [
       "<Figure size 640x480 with 1 Axes>"
      ]
     },
     "metadata": {},
     "output_type": "display_data"
    }
   ],
   "source": [
    "from matplotlib import pyplot\n",
    "x=[M[i][0] for i in range(V)]\n",
    "y=[M[i][1] for i in range(V)]\n",
    "fig, ax = pyplot.subplots()\n",
    "ax.scatter(x, y)\n",
    "for i, txt in enumerate(vocabulary):\n",
    "    ax.annotate(txt, (x[i], y[i]))"
   ]
  },
  {
   "cell_type": "markdown",
   "metadata": {
    "id": "hlnr1f1jn7Kr"
   },
   "source": [
    "### Exercice\n",
    "\n",
    "\n",
    "* Récuperer le dataset du plagiarisme?\n",
    "* Réaliser les différentes tâches de prétraitement?\n",
    "* Récuperer la représetation vectorielle des differents document du corpus\n",
    "* Appliquer La SVD pour reduire la dimesion de la representation vectorielle des termes pour les representer dans un espace de dimension 2\n",
    "* Tracer les vecteurs obtenus en se servant de la bibliotheque matplolib\n",
    "\n",
    "* En se servant de la représentation vectorielle obtenue, calculer les similarités entre les réponses des étudiants et les définitions trouvées sur Wikipédia. Réaliser une représentation vectorielle des documents en se basant sur les représentations vectorielles de leurs mots (une moyenne par exemple) et utiliser par la suite la distance euclidienne ou la distance corsinus.\n",
    "\n",
    "\n",
    "\n",
    "\n",
    "\n",
    "\n"
   ]
  },
  {
   "cell_type": "markdown",
   "metadata": {},
   "source": [
    "**Solutions**"
   ]
  },
  {
   "cell_type": "code",
   "execution_count": 23,
   "metadata": {},
   "outputs": [
    {
     "name": "stderr",
     "output_type": "stream",
     "text": [
      "C:\\Users\\dscon\\AppData\\Local\\Temp\\ipykernel_14856\\1503695563.py:23: SettingWithCopyWarning: \n",
      "A value is trying to be set on a copy of a slice from a DataFrame.\n",
      "Try using .loc[row_indexer,col_indexer] = value instead\n",
      "\n",
      "See the caveats in the documentation: https://pandas.pydata.org/pandas-docs/stable/user_guide/indexing.html#returning-a-view-versus-a-copy\n",
      "  sub_df_step_3['Processed'] = sub_df_step_3['UResponse'].apply(preprocess_text)\n"
     ]
    },
    {
     "data": {
      "image/png": "[encoded data removed]",
      "text/plain": [
       "<Figure size 1000x800 with 1 Axes>"
      ]
     },
     "metadata": {},
     "output_type": "display_data"
    },
    {
     "name": "stdout",
     "output_type": "stream",
     "text": [
      "Similarités cosinus entre les documents :\n",
      " [[1.         0.98469478 0.99842449 ... 0.99578533 0.99736482 0.99491966]\n",
      " [0.98469478 1.         0.99292299 ... 0.99652934 0.9947444  0.9972381 ]\n",
      " [0.99842449 0.99292299 1.         ... 0.99936274 0.99986434 0.99900105]\n",
      " ...\n",
      " [0.99578533 0.99652934 0.99936274 ... 1.         0.9998151  0.99995951]\n",
      " [0.99736482 0.9947444  0.99986434 ... 0.9998151  1.         0.99960157]\n",
      " [0.99491966 0.9972381  0.99900105 ... 0.99995951 0.99960157 1.        ]]\n"
     ]
    }
   ],
   "source": [
    "import pandas as pd\n",
    "import numpy as np\n",
    "import matplotlib.pyplot as plt\n",
    "from sklearn.decomposition import TruncatedSVD\n",
    "from sklearn.metrics.pairwise import cosine_similarity, euclidean_distances\n",
    "from nltk.corpus import stopwords\n",
    "from nltk.stem import WordNetLemmatizer\n",
    "import re\n",
    "from collections import Counter\n",
    "from sklearn.preprocessing import normalize\n",
    "\n",
    "\n",
    "# Fonction de prétraitement\n",
    "def preprocess_text(text):\n",
    "    lemmatizer = WordNetLemmatizer()\n",
    "    stop_words = set(stopwords.words(\"english\"))\n",
    "    text = text.lower()\n",
    "    text = re.sub(r'[^\\w\\s]', '', text)\n",
    "    words = [lemmatizer.lemmatize(word) for word in text.split() if word not in stop_words]\n",
    "    return words\n",
    "\n",
    "# Appliquer le prétraitement\n",
    "sub_df_step_3['Processed'] = sub_df_step_3['UResponse'].apply(preprocess_text)\n",
    "\n",
    "# Créer le vocabulaire\n",
    "vocab = sorted(set(word for doc in sub_df_step_3['Processed'] for word in doc))\n",
    "word_to_id = {word: idx for idx, word in enumerate(vocab)}\n",
    "V = len(vocab)\n",
    "\n",
    "# Matrice de cooccurrence\n",
    "cooccurrence_matrix = np.zeros((V, V))\n",
    "window_size = 2\n",
    "\n",
    "for doc in sub_df_step_3['Processed']:\n",
    "    for idx, word in enumerate(doc):\n",
    "        word_id = word_to_id[word]\n",
    "        start = max(0, idx - window_size)\n",
    "        end = min(len(doc), idx + window_size + 1)\n",
    "        for neighbor in doc[start:end]:\n",
    "            if neighbor != word:\n",
    "                neighbor_id = word_to_id[neighbor]\n",
    "                cooccurrence_matrix[word_id][neighbor_id] += 1\n",
    "\n",
    "# Réduction de dimension avec SVD\n",
    "svd = TruncatedSVD(n_components=2)\n",
    "reduced_matrix = svd.fit_transform(cooccurrence_matrix)\n",
    "\n",
    "# Visualisation avec matplotlib\n",
    "plt.figure(figsize=(10, 8))\n",
    "for i, word in enumerate(vocab):\n",
    "    plt.scatter(reduced_matrix[i, 0], reduced_matrix[i, 1], edgecolor='k', s=50)\n",
    "    plt.text(reduced_matrix[i, 0] + 0.02, reduced_matrix[i, 1] + 0.02, word, fontsize=12)\n",
    "plt.title(\"Projection 2D des termes après réduction de dimension\")\n",
    "plt.xlabel(\"Composante 1\")\n",
    "plt.ylabel(\"Composante 2\")\n",
    "plt.show()\n",
    "\n",
    "# Calcul de similarité entre documents\n",
    "def compute_document_vector(doc):\n",
    "    doc_vector = np.mean([reduced_matrix[word_to_id[word]] for word in doc if word in word_to_id], axis=0)\n",
    "    return doc_vector\n",
    "\n",
    "doc_vectors = [compute_document_vector(doc) for doc in sub_df_step_3['Processed']]\n",
    "\n",
    "# Similarités cosinus entre documents\n",
    "similarities = cosine_similarity(doc_vectors)\n",
    "print(\"Similarités cosinus entre les documents :\\n\", similarities)\n"
   ]
  },
  {
   "cell_type": "markdown",
   "metadata": {
    "id": "jOnmF9nin7Ks"
   },
   "source": [
    "## 3.3.\tApprochee iteratives"
   ]
  },
  {
   "cell_type": "markdown",
   "metadata": {
    "id": "Wq-ByqlJn7Ks"
   },
   "source": [
    "### Word2Vec"
   ]
  },
  {
   "cell_type": "markdown",
   "metadata": {
    "id": "byQM2uKgn7Ks"
   },
   "source": [
    "Word2Vec est un algorithme à base des réseaux de neurones et qui permet d'avoir une représentation vectorielle des mots contenus dans un corpus très large de documents texte de telle sorte que les mots qui se répètent toujours ensemble dans les mêmes contextes auront des représentations vectorielles similaires.\n",
    "\n",
    "L'algorithme word2Vect doit tourner sur un corpus très large de documents texte afin d'obtenir un modèle donnant une bonne représentation vectorielle d'un nombre important de mots. Cela nécessitera bien évidement un temps considérable pendant le processus d'apprentissage et nécessitera également des ressources importantes en matière de CPU et de RAM.\n",
    "\n",
    "La librairie Gensim fourni une implémentation de l'algorithme Word2Vec avec des modèles préétablis qui peuvent être exploités dans la comparaison de documents texte :\n",
    "\n",
    "    *fasttext-wiki-news-subwords-300\n",
    "    *conceptnet-numberbatch-17-06-300\n",
    "    *word2vec-ruscorpora-300\n",
    "    *word2vec-google-news-300\n",
    "    *glove-wiki-gigaword-50\n",
    "    *glove-wiki-gigaword-100\n",
    "    *glove-wiki-gigaword-200\n",
    "    *glove-wiki-gigaword-300\n",
    "    *glove-twitter-25\n",
    "    *glove-twitter-50\n",
    "    *glove-twitter-100\n",
    "    *glove-twitter-200\n",
    "\n",
    "Ci-dessous un code permettant de récupérer le modèle préétabli contenant 1193514 mots représentés dans un espace vectoriel de dimension 25"
   ]
  },
  {
   "cell_type": "code",
   "execution_count": 24,
   "metadata": {
    "id": "kcC3Ijnkn7Ks"
   },
   "outputs": [],
   "source": [
    "import gensim.downloader\n",
    "glove_vectors = gensim.downloader.load('glove-twitter-25')\n"
   ]
  },
  {
   "cell_type": "markdown",
   "metadata": {
    "id": "DNnwAoPfn7Ks"
   },
   "source": [
    "Le modèle préétablis peut être utilisé pour récupérer les représentations vectorielles des mots comme ci-dessous."
   ]
  },
  {
   "cell_type": "code",
   "execution_count": 25,
   "metadata": {
    "id": "pO-ja-rLn7Kt"
   },
   "outputs": [
    {
     "name": "stdout",
     "output_type": "stream",
     "text": [
      "[ 1.1666    0.35531  -0.29362  -0.52206   1.4224   -0.30116   0.045792\n",
      " -0.028705  1.8792    0.28175   0.55703  -0.71944  -3.0101    0.41258\n",
      "  0.3052   -0.12702  -0.25783   0.90687  -0.026371 -1.0942   -1.03\n",
      " -1.2379   -0.65783   0.14663  -1.3532  ]\n"
     ]
    }
   ],
   "source": [
    "vec_data = glove_vectors['data']\n",
    "print(vec_data)"
   ]
  },
  {
   "cell_type": "markdown",
   "metadata": {
    "id": "nEmU7ciXn7Kt"
   },
   "source": [
    "Genism offre plusieurs fonctions permettant de récupérer et d'exploiter les similarités entre les mots en se basant sur leurs représentations vectorielles."
   ]
  },
  {
   "cell_type": "markdown",
   "metadata": {
    "id": "cgvd-H9Gn7Kt"
   },
   "source": [
    "* Le code ci-deesous permet de recuperer les 10 terms les plus similaires à un terme donné."
   ]
  },
  {
   "cell_type": "code",
   "execution_count": 26,
   "metadata": {
    "id": "NHaelbFvn7Kt"
   },
   "outputs": [
    {
     "data": {
      "text/plain": [
       "[('mobile', 0.8975884914398193),\n",
       " ('software', 0.867477297782898),\n",
       " ('search', 0.8633924722671509),\n",
       " ('survey', 0.8620768189430237),\n",
       " ('web', 0.8545363545417786),\n",
       " ('server', 0.854297935962677),\n",
       " ('marketing', 0.8416521549224854),\n",
       " ('file', 0.8381796479225159),\n",
       " ('system', 0.8372836112976074),\n",
       " ('google', 0.8370377421379089)]"
      ]
     },
     "execution_count": 26,
     "metadata": {},
     "output_type": "execute_result"
    }
   ],
   "source": [
    "glove_vectors.most_similar('data',topn=10)"
   ]
  },
  {
   "cell_type": "markdown",
   "metadata": {
    "id": "Slz-pnrSn7Ku"
   },
   "source": [
    "* Le code ci-dessous permet de récupérer l'ordre de similarité entre deux termes?"
   ]
  },
  {
   "cell_type": "code",
   "execution_count": 27,
   "metadata": {
    "id": "l3aLnZ6un7Ku"
   },
   "outputs": [
    {
     "data": {
      "text/plain": [
       "0.8011154"
      ]
     },
     "execution_count": 27,
     "metadata": {},
     "output_type": "execute_result"
    }
   ],
   "source": [
    "glove_vectors.similarity('data', 'information')"
   ]
  },
  {
   "cell_type": "markdown",
   "metadata": {
    "id": "zQ4iaEi0n7Ku"
   },
   "source": [
    "* Le code ci-dessous permet de récupérer le terme le moins convenable dans un ensemble de termes en se basant sur leurs similarités."
   ]
  },
  {
   "cell_type": "code",
   "execution_count": 28,
   "metadata": {
    "id": "j23TAVUfn7Ku"
   },
   "outputs": [
    {
     "name": "stdout",
     "output_type": "stream",
     "text": [
      "car\n"
     ]
    }
   ],
   "source": [
    "print(glove_vectors.doesnt_match(['data', 'information', 'processing', 'computer', 'car','machine','dashboard']))"
   ]
  },
  {
   "cell_type": "markdown",
   "metadata": {
    "id": "2loNKH3Cn7Kv"
   },
   "source": [
    "Bien évidemment, on peut apprendre notre propre modèle en suivant les étapes ci-dessous\n",
    "\n",
    "   * Récupérer le corpus (Voir le code dans la section 1)\n",
    "   * Réaliser les prétraitements nécessaires pour obtenir la liste des documents segmentés: une liste de listes tq chaque sous listes comporte les mots d'un documents du corpus."
   ]
  },
  {
   "cell_type": "code",
   "execution_count": 29,
   "metadata": {
    "id": "Xv0ewdaFn7Kv"
   },
   "outputs": [
    {
     "data": {
      "text/plain": [
       "[['this', 'first', 'document'],\n",
       " ['this', 'second', 'second', 'document'],\n",
       " ['and', 'third', 'one'],\n",
       " ['is', 'first', 'document']]"
      ]
     },
     "execution_count": 29,
     "metadata": {},
     "output_type": "execute_result"
    }
   ],
   "source": [
    "from nltk.tokenize import word_tokenize\n",
    "\n",
    "corpus = ['This is the first document.','This is the second second document.','And the third one.','Is this the first document?']\n",
    "\n",
    "corpus_lemetized=[]\n",
    "for doc in corpus:\n",
    "    words = word_tokenize(doc)\n",
    "    words = [lemmatizer.lemmatize(word.lower()) for word in words if(word not in set(stopwords.words('english')) and  word.isalpha())]\n",
    "    corpus_lemetized.append(words)\n",
    "corpus_lemetized\n",
    "\n",
    "\n"
   ]
  },
  {
   "cell_type": "markdown",
   "metadata": {
    "id": "a9mKFf9Ln7Kv"
   },
   "source": [
    "Pour générer le modèle"
   ]
  },
  {
   "cell_type": "code",
   "execution_count": 30,
   "metadata": {
    "id": "qZoB9qFnn7Kv"
   },
   "outputs": [],
   "source": [
    "from gensim.models import Word2Vec\n",
    "from gensim.test.utils import datapath\n",
    "from gensim.models.word2vec import PathLineSentences\n",
    "model = Word2Vec(sentences=corpus_lemetized, vector_size=10, window=3, min_count=1, workers=2)\n"
   ]
  },
  {
   "cell_type": "markdown",
   "metadata": {
    "id": "elLVPLtYn7Kw"
   },
   "source": [
    "Pour récupérer la representation vectorielle d'un mot:   "
   ]
  },
  {
   "cell_type": "code",
   "execution_count": 31,
   "metadata": {
    "id": "tS0f0jren7Kw"
   },
   "outputs": [
    {
     "name": "stdout",
     "output_type": "stream",
     "text": [
      "Key 'data' not present in the model vocabulary\n"
     ]
    }
   ],
   "source": [
    "if 'data' in model.wv:\n",
    "    print(model.wv['data'])\n",
    "else:\n",
    "    print(\"Key 'data' not present in the model vocabulary\")\n"
   ]
  },
  {
   "cell_type": "markdown",
   "metadata": {
    "id": "kuwySRMPn7Kw"
   },
   "source": [
    "Pour récupérer tous les vecteurs"
   ]
  },
  {
   "cell_type": "code",
   "execution_count": 32,
   "metadata": {
    "id": "WdhavQHZn7Kw"
   },
   "outputs": [
    {
     "data": {
      "text/plain": [
       "array([[-0.00536227,  0.00236431,  0.0510335 ,  0.09009273, -0.0930295 ,\n",
       "        -0.07116809,  0.06458873,  0.08972988, -0.05015428, -0.03763372],\n",
       "       [ 0.07380505, -0.01533471, -0.04536613,  0.06554051, -0.0486016 ,\n",
       "        -0.01816018,  0.0287658 ,  0.00991874, -0.08285215, -0.09448818],\n",
       "       [ 0.07311766,  0.05070262,  0.06757693,  0.00762866,  0.06350891,\n",
       "        -0.03405366, -0.00946401,  0.05768573, -0.07521638, -0.03936104],\n",
       "       [-0.07511582, -0.00930042,  0.09538119, -0.07319167, -0.02333769,\n",
       "        -0.01937741,  0.08077437, -0.05930896,  0.00045162, -0.04753734],\n",
       "       [-0.0960355 ,  0.05007293, -0.08759586, -0.04391825, -0.000351  ,\n",
       "        -0.00296181, -0.0766124 ,  0.09614743,  0.04982058,  0.09233143],\n",
       "       [-0.08157917,  0.04495798, -0.04137076,  0.00824536,  0.08498619,\n",
       "        -0.04462177,  0.045175  , -0.0678696 , -0.03548489,  0.09398508],\n",
       "       [-0.01577653,  0.00321372, -0.0414063 , -0.07682689, -0.01508008,\n",
       "         0.02469795, -0.00888027,  0.05533662, -0.02742977,  0.02260065],\n",
       "       [ 0.05455794,  0.08345953, -0.01453741, -0.09208143,  0.04370552,\n",
       "         0.00571785,  0.07441908, -0.00813283, -0.02638414, -0.08753009]],\n",
       "      dtype=float32)"
      ]
     },
     "execution_count": 32,
     "metadata": {},
     "output_type": "execute_result"
    }
   ],
   "source": [
    "vectors=model.wv.vectors\n",
    "vectors"
   ]
  },
  {
   "cell_type": "markdown",
   "metadata": {
    "id": "Vr_V6QWbn7Kx"
   },
   "source": [
    "Recuperer tous le smots"
   ]
  },
  {
   "cell_type": "code",
   "execution_count": 33,
   "metadata": {
    "id": "AXwPc9L9n7Kx"
   },
   "outputs": [
    {
     "data": {
      "text/plain": [
       "['document', 'second', 'first', 'this', 'is', 'one', 'third', 'and']"
      ]
     },
     "execution_count": 33,
     "metadata": {},
     "output_type": "execute_result"
    }
   ],
   "source": [
    "words = model.wv.index_to_key\n",
    "words"
   ]
  },
  {
   "cell_type": "markdown",
   "metadata": {
    "id": "tnjIvzsOn7Kx"
   },
   "source": [
    "### Doc2Vec"
   ]
  },
  {
   "cell_type": "markdown",
   "metadata": {
    "id": "EvEcqy7Pn7Ky"
   },
   "source": [
    "Doc2Vec est une implémentation de l'algorithme Paragraph Vector qui est basé sur Word2Vec et qui est plus adapté à la comparaison de documents texte en se basant sur leur représentations vectorielles.\n",
    "\n",
    "Cet algorithme dépasse dans sa performance l’utilisation des moyenne des représentations vectorielles des mots présents dans un documents texte.\n"
   ]
  },
  {
   "cell_type": "markdown",
   "metadata": {
    "id": "h4ar-zvsn7Ky"
   },
   "source": [
    "* Pour génerer le modèle"
   ]
  },
  {
   "cell_type": "code",
   "execution_count": 34,
   "metadata": {
    "id": "gUy4PEkyn7Ky"
   },
   "outputs": [],
   "source": [
    "from gensim.models.doc2vec import Doc2Vec, TaggedDocument\n",
    "documents = [TaggedDocument(doc, [i]) for i, doc in enumerate(corpus_lemetized)]\n",
    "model = Doc2Vec(documents, vector_size=5, window=2, min_count=1, workers=4)"
   ]
  },
  {
   "cell_type": "markdown",
   "metadata": {
    "id": "6dPkDotyn7Kz"
   },
   "source": [
    "* Pour récupérer la representation vectorielle de tous les documents   "
   ]
  },
  {
   "cell_type": "code",
   "execution_count": 35,
   "metadata": {
    "id": "xWOPdLgyn7Kz"
   },
   "outputs": [
    {
     "data": {
      "text/plain": [
       "array([[-0.10457816, -0.11951339, -0.19769076,  0.17101616,  0.07126717],\n",
       "       [ 0.0052225 , -0.1976919 , -0.10334646, -0.19431566,  0.04021739],\n",
       "       [ 0.05665023,  0.09295107, -0.0860256 , -0.06296068, -0.0616351 ],\n",
       "       [-0.17443831,  0.04344966,  0.18451245, -0.19003734, -0.06916173]],\n",
       "      dtype=float32)"
      ]
     },
     "execution_count": 35,
     "metadata": {},
     "output_type": "execute_result"
    }
   ],
   "source": [
    "vectors=model.dv.vectors\n",
    "vectors"
   ]
  },
  {
   "cell_type": "markdown",
   "metadata": {
    "id": "zmjdjvr1n7Kz"
   },
   "source": [
    "Pour récupérer la les labels de tous les documents   "
   ]
  },
  {
   "cell_type": "code",
   "execution_count": 36,
   "metadata": {
    "id": "z0A43I9vn7Kz"
   },
   "outputs": [
    {
     "data": {
      "text/plain": [
       "[0, 1, 2, 3]"
      ]
     },
     "execution_count": 36,
     "metadata": {},
     "output_type": "execute_result"
    }
   ],
   "source": [
    "labels=model.dv.index_to_key\n",
    "labels"
   ]
  },
  {
   "cell_type": "markdown",
   "metadata": {
    "id": "-7kBN8gAn7Kz"
   },
   "source": [
    "Pour récupérer la représentation vectorielle d'un document particulier:"
   ]
  },
  {
   "cell_type": "code",
   "execution_count": 37,
   "metadata": {
    "id": "qplxGLPPn7K0"
   },
   "outputs": [
    {
     "name": "stdout",
     "output_type": "stream",
     "text": [
      "Key '80' not present in the model document vectors\n"
     ]
    }
   ],
   "source": [
    "if 80 in model.dv.index_to_key:\n",
    "    print(model.dv[80])\n",
    "else:\n",
    "    print(\"Key '80' not present in the model document vectors\")\n"
   ]
  },
  {
   "cell_type": "markdown",
   "metadata": {
    "id": "bHJFQpDXn7K0"
   },
   "source": [
    "### Exercice\n",
    "\n",
    "\n",
    "* En se servant de la représentation vectorielle doc2vec, calculer les similarités entre les réponses des étudiants et les définitions trouvées sur Wikipédia."
   ]
  },
  {
   "cell_type": "code",
   "execution_count": 38,
   "metadata": {},
   "outputs": [
    {
     "data": {
      "text/plain": [
       "Index(['User', 'Task', 'OResponse', 'UResponse', 'Category', 'Processed'], dtype='object')"
      ]
     },
     "execution_count": 38,
     "metadata": {},
     "output_type": "execute_result"
    }
   ],
   "source": [
    "sub_df_step_3.columns"
   ]
  },
  {
   "cell_type": "code",
   "execution_count": 39,
   "metadata": {},
   "outputs": [
    {
     "name": "stderr",
     "output_type": "stream",
     "text": [
      "C:\\Users\\dscon\\AppData\\Local\\Temp\\ipykernel_14856\\231499676.py:17: SettingWithCopyWarning: \n",
      "A value is trying to be set on a copy of a slice from a DataFrame.\n",
      "Try using .loc[row_indexer,col_indexer] = value instead\n",
      "\n",
      "See the caveats in the documentation: https://pandas.pydata.org/pandas-docs/stable/user_guide/indexing.html#returning-a-view-versus-a-copy\n",
      "  sub_df_step_3['UResponse_phrases'] = sub_df_step_3['UResponse'].apply(split_into_phrases)\n",
      "C:\\Users\\dscon\\AppData\\Local\\Temp\\ipykernel_14856\\231499676.py:18: SettingWithCopyWarning: \n",
      "A value is trying to be set on a copy of a slice from a DataFrame.\n",
      "Try using .loc[row_indexer,col_indexer] = value instead\n",
      "\n",
      "See the caveats in the documentation: https://pandas.pydata.org/pandas-docs/stable/user_guide/indexing.html#returning-a-view-versus-a-copy\n",
      "  sub_df_step_3['OResponse_phrases'] = sub_df_step_3['OResponse'].apply(split_into_phrases)\n"
     ]
    },
    {
     "name": "stdout",
     "output_type": "stream",
     "text": [
      "Doc2Vec Accuracy with Phrases and TF-IDF Weighting: 0.20\n",
      "                                            UResponse  \\\n",
      "0   Inheritance is a basic concept of Object-Orien...   \n",
      "1   Inheritance is a basic concept in object orien...   \n",
      "2   inheritance in object oriented programming is ...   \n",
      "3   Inheritance in object oriented programming is ...   \n",
      "4   In object-oriented programming, inheritance is...   \n",
      "..                                                ...   \n",
      "90  In computer science and mathematics, dynamic p...   \n",
      "91  In mathematics and computer science, dynamic p...   \n",
      "92  In mathematics and computer science, dynamic p...   \n",
      "93  Dynamic programming is a method of providing s...   \n",
      "94   Dynamic programming is a method for efficient...   \n",
      "\n",
      "                                            OResponse  Doc2Vec_Similarity  \\\n",
      "0   In object-oriented programming, inheritance is...            0.990919   \n",
      "1   In object-oriented programming, inheritance is...            0.990605   \n",
      "2   In object-oriented programming, inheritance is...            0.995054   \n",
      "3   In object-oriented programming, inheritance is...            0.996639   \n",
      "4   In object-oriented programming, inheritance is...            0.998786   \n",
      "..                                                ...                 ...   \n",
      "90  In mathematics and computer science, dynamic p...            0.995494   \n",
      "91  In mathematics and computer science, dynamic p...            0.996922   \n",
      "92  In mathematics and computer science, dynamic p...            0.995559   \n",
      "93  In mathematics and computer science, dynamic p...            0.992209   \n",
      "94  In mathematics and computer science, dynamic p...            0.993215   \n",
      "\n",
      "   Doc2Vec_Category Category  \n",
      "0               cut      non  \n",
      "1               cut      non  \n",
      "2               cut    heavy  \n",
      "3               cut      cut  \n",
      "4               cut    light  \n",
      "..              ...      ...  \n",
      "90              cut    light  \n",
      "91              cut      cut  \n",
      "92              cut    light  \n",
      "93              cut    heavy  \n",
      "94              cut      non  \n",
      "\n",
      "[95 rows x 5 columns]\n"
     ]
    },
    {
     "name": "stderr",
     "output_type": "stream",
     "text": [
      "C:\\Users\\dscon\\AppData\\Local\\Temp\\ipykernel_14856\\231499676.py:72: SettingWithCopyWarning: \n",
      "A value is trying to be set on a copy of a slice from a DataFrame.\n",
      "Try using .loc[row_indexer,col_indexer] = value instead\n",
      "\n",
      "See the caveats in the documentation: https://pandas.pydata.org/pandas-docs/stable/user_guide/indexing.html#returning-a-view-versus-a-copy\n",
      "  sub_df_step_3['Doc2Vec_Similarity'] = similarities\n",
      "C:\\Users\\dscon\\AppData\\Local\\Temp\\ipykernel_14856\\231499676.py:73: SettingWithCopyWarning: \n",
      "A value is trying to be set on a copy of a slice from a DataFrame.\n",
      "Try using .loc[row_indexer,col_indexer] = value instead\n",
      "\n",
      "See the caveats in the documentation: https://pandas.pydata.org/pandas-docs/stable/user_guide/indexing.html#returning-a-view-versus-a-copy\n",
      "  sub_df_step_3['Doc2Vec_Category'] = [classify_similarity(sim) for sim in similarities]\n"
     ]
    }
   ],
   "source": [
    "from gensim.models import Phrases, Doc2Vec\n",
    "from gensim.models.phrases import Phraser\n",
    "from gensim.models.doc2vec import TaggedDocument\n",
    "from sklearn.feature_extraction.text import TfidfVectorizer\n",
    "from sklearn.metrics.pairwise import cosine_similarity\n",
    "import numpy as np\n",
    "import warnings\n",
    "warnings.simplefilter(action='ignore', category=FutureWarning)\n",
    "\n",
    "# Fonction de séparation en phrases\n",
    "def split_into_phrases(text, phrase_length=20):\n",
    "    words = text.lower().split()\n",
    "    phrases = [' '.join(words[i:i + phrase_length]) for i in range(0, len(words), phrase_length)]\n",
    "    return phrases\n",
    "\n",
    "# Préparation du corpus avec les bigrammes\n",
    "sub_df_step_3['UResponse_phrases'] = sub_df_step_3['UResponse'].apply(split_into_phrases)\n",
    "sub_df_step_3['OResponse_phrases'] = sub_df_step_3['OResponse'].apply(split_into_phrases)\n",
    "sentences = [phrase.split() for doc in sub_df_step_3['UResponse_phrases'] + sub_df_step_3['OResponse_phrases'] for phrase in doc]\n",
    "bigram = Phrases(sentences, min_count=2, threshold=10)\n",
    "bigram_phraser = Phraser(bigram)\n",
    "\n",
    "\n",
    "documents = [\n",
    "    TaggedDocument(bigram_phraser[phrase.split()], tags=[f\"U_{i}_{j}\"]) \n",
    "    for i, row in sub_df_step_3.iterrows() for j, phrase in enumerate(row['UResponse_phrases'])\n",
    "] + [\n",
    "    TaggedDocument(bigram_phraser[phrase.split()], tags=[f\"O_{i}_{j}\"]) \n",
    "    for i, row in sub_df_step_3.iterrows() for j, phrase in enumerate(row['OResponse_phrases'])\n",
    "]\n",
    "model = Doc2Vec(vector_size=100, window=5, min_count=1, workers=4, epochs=30)\n",
    "model.build_vocab(documents)\n",
    "model.train(documents, total_examples=model.corpus_count, epochs=model.epochs)\n",
    "\n",
    "# Calcul de la similarité avec pondération TF-IDF\n",
    "def compute_weighted_similarity(u_phrases, o_phrases, model, bigram_phraser):\n",
    "    vectorizer = TfidfVectorizer()\n",
    "    corpus = u_phrases + o_phrases\n",
    "    tfidf_matrix = vectorizer.fit_transform(corpus)\n",
    "    tfidf_scores = dict(zip(vectorizer.get_feature_names_out(), vectorizer.idf_))\n",
    "\n",
    "    similarities = []\n",
    "    for u_phrase in u_phrases:\n",
    "        u_vectors = [\n",
    "            model.infer_vector(bigram_phraser[word.split()]) * tfidf_scores.get(word, 1.0)\n",
    "            for word in u_phrase.split() if word in tfidf_scores\n",
    "        ]\n",
    "        if u_vectors:\n",
    "            u_vector = np.mean(u_vectors, axis=0)\n",
    "        else:\n",
    "            continue\n",
    "\n",
    "        for o_phrase in o_phrases:\n",
    "            o_vectors = [\n",
    "                model.infer_vector(bigram_phraser[word.split()]) * tfidf_scores.get(word, 1.0)\n",
    "                for word in o_phrase.split() if word in tfidf_scores\n",
    "            ]\n",
    "            if o_vectors:\n",
    "                o_vector = np.mean(o_vectors, axis=0)\n",
    "                sim = cosine_similarity([u_vector], [o_vector])[0][0]\n",
    "                similarities.append(sim)\n",
    "    return np.max(similarities) if similarities else 0\n",
    "\n",
    "# Calcul des similarités pour chaque paire\n",
    "similarities = []\n",
    "for i in range(len(sub_df_step_3)):\n",
    "    u_phrases = sub_df_step_3['UResponse_phrases'][i]\n",
    "    o_phrases = sub_df_step_3['OResponse_phrases'][i]\n",
    "    similarity = compute_weighted_similarity(u_phrases, o_phrases, model, bigram_phraser)\n",
    "    similarities.append(similarity)\n",
    "\n",
    "sub_df_step_3['Doc2Vec_Similarity'] = similarities\n",
    "sub_df_step_3['Doc2Vec_Category'] = [classify_similarity(sim) for sim in similarities]\n",
    "\n",
    "# Calcul de précision\n",
    "def compute_accuracy(predicted_labels, true_labels):\n",
    "    correct = sum(p == t for p, t in zip(predicted_labels, true_labels))\n",
    "    return correct / len(true_labels)\n",
    "\n",
    "reference_labels = sub_df_step_3['Category']\n",
    "doc2vec_accuracy = compute_accuracy(sub_df_step_3['Doc2Vec_Category'], reference_labels)\n",
    "\n",
    "# Résultats\n",
    "print(f\"Doc2Vec Accuracy with Phrases and TF-IDF Weighting: {doc2vec_accuracy:.2f}\")\n",
    "print(sub_df_step_3[['UResponse', 'OResponse', 'Doc2Vec_Similarity', 'Doc2Vec_Category', 'Category']].head(10))\n"
   ]
  },
  {
   "cell_type": "code",
   "execution_count": 40,
   "metadata": {},
   "outputs": [
    {
     "name": "stdout",
     "output_type": "stream",
     "text": [
      "Doc2Vec Accuracy with Phrases and TF-IDF Weighting: 20.00 %\n"
     ]
    }
   ],
   "source": [
    "print(f\"Doc2Vec Accuracy with Phrases and TF-IDF Weighting: {doc2vec_accuracy * 100:.2f} %\")\n"
   ]
  },
  {
   "cell_type": "code",
   "execution_count": 41,
   "metadata": {},
   "outputs": [
    {
     "data": {
      "text/html": [
       "<div>\n",
       "<style scoped>\n",
       "    .dataframe tbody tr th:only-of-type {\n",
       "        vertical-align: middle;\n",
       "    }\n",
       "\n",
       "    .dataframe tbody tr th {\n",
       "        vertical-align: top;\n",
       "    }\n",
       "\n",
       "    .dataframe thead th {\n",
       "        text-align: right;\n",
       "    }\n",
       "</style>\n",
       "<table border=\"1\" class=\"dataframe\">\n",
       "  <thead>\n",
       "    <tr style=\"text-align: right;\">\n",
       "      <th></th>\n",
       "      <th>UResponse</th>\n",
       "      <th>OResponse</th>\n",
       "      <th>Doc2Vec_Similarity</th>\n",
       "      <th>Doc2Vec_Category</th>\n",
       "      <th>Category</th>\n",
       "    </tr>\n",
       "  </thead>\n",
       "  <tbody>\n",
       "    <tr>\n",
       "      <th>0</th>\n",
       "      <td>Inheritance is a basic concept of Object-Orien...</td>\n",
       "      <td>In object-oriented programming, inheritance is...</td>\n",
       "      <td>0.990919</td>\n",
       "      <td>cut</td>\n",
       "      <td>non</td>\n",
       "    </tr>\n",
       "    <tr>\n",
       "      <th>1</th>\n",
       "      <td>Inheritance is a basic concept in object orien...</td>\n",
       "      <td>In object-oriented programming, inheritance is...</td>\n",
       "      <td>0.990605</td>\n",
       "      <td>cut</td>\n",
       "      <td>non</td>\n",
       "    </tr>\n",
       "    <tr>\n",
       "      <th>2</th>\n",
       "      <td>inheritance in object oriented programming is ...</td>\n",
       "      <td>In object-oriented programming, inheritance is...</td>\n",
       "      <td>0.995054</td>\n",
       "      <td>cut</td>\n",
       "      <td>heavy</td>\n",
       "    </tr>\n",
       "    <tr>\n",
       "      <th>3</th>\n",
       "      <td>Inheritance in object oriented programming is ...</td>\n",
       "      <td>In object-oriented programming, inheritance is...</td>\n",
       "      <td>0.996639</td>\n",
       "      <td>cut</td>\n",
       "      <td>cut</td>\n",
       "    </tr>\n",
       "    <tr>\n",
       "      <th>4</th>\n",
       "      <td>In object-oriented programming, inheritance is...</td>\n",
       "      <td>In object-oriented programming, inheritance is...</td>\n",
       "      <td>0.998786</td>\n",
       "      <td>cut</td>\n",
       "      <td>light</td>\n",
       "    </tr>\n",
       "    <tr>\n",
       "      <th>...</th>\n",
       "      <td>...</td>\n",
       "      <td>...</td>\n",
       "      <td>...</td>\n",
       "      <td>...</td>\n",
       "      <td>...</td>\n",
       "    </tr>\n",
       "    <tr>\n",
       "      <th>90</th>\n",
       "      <td>In computer science and mathematics, dynamic p...</td>\n",
       "      <td>In mathematics and computer science, dynamic p...</td>\n",
       "      <td>0.995494</td>\n",
       "      <td>cut</td>\n",
       "      <td>light</td>\n",
       "    </tr>\n",
       "    <tr>\n",
       "      <th>91</th>\n",
       "      <td>In mathematics and computer science, dynamic p...</td>\n",
       "      <td>In mathematics and computer science, dynamic p...</td>\n",
       "      <td>0.996922</td>\n",
       "      <td>cut</td>\n",
       "      <td>cut</td>\n",
       "    </tr>\n",
       "    <tr>\n",
       "      <th>92</th>\n",
       "      <td>In mathematics and computer science, dynamic p...</td>\n",
       "      <td>In mathematics and computer science, dynamic p...</td>\n",
       "      <td>0.995559</td>\n",
       "      <td>cut</td>\n",
       "      <td>light</td>\n",
       "    </tr>\n",
       "    <tr>\n",
       "      <th>93</th>\n",
       "      <td>Dynamic programming is a method of providing s...</td>\n",
       "      <td>In mathematics and computer science, dynamic p...</td>\n",
       "      <td>0.992209</td>\n",
       "      <td>cut</td>\n",
       "      <td>heavy</td>\n",
       "    </tr>\n",
       "    <tr>\n",
       "      <th>94</th>\n",
       "      <td>Dynamic programming is a method for efficient...</td>\n",
       "      <td>In mathematics and computer science, dynamic p...</td>\n",
       "      <td>0.993215</td>\n",
       "      <td>cut</td>\n",
       "      <td>non</td>\n",
       "    </tr>\n",
       "  </tbody>\n",
       "</table>\n",
       "<p>95 rows × 5 columns</p>\n",
       "</div>"
      ],
      "text/plain": [
       "                                            UResponse  \\\n",
       "0   Inheritance is a basic concept of Object-Orien...   \n",
       "1   Inheritance is a basic concept in object orien...   \n",
       "2   inheritance in object oriented programming is ...   \n",
       "3   Inheritance in object oriented programming is ...   \n",
       "4   In object-oriented programming, inheritance is...   \n",
       "..                                                ...   \n",
       "90  In computer science and mathematics, dynamic p...   \n",
       "91  In mathematics and computer science, dynamic p...   \n",
       "92  In mathematics and computer science, dynamic p...   \n",
       "93  Dynamic programming is a method of providing s...   \n",
       "94   Dynamic programming is a method for efficient...   \n",
       "\n",
       "                                            OResponse  Doc2Vec_Similarity  \\\n",
       "0   In object-oriented programming, inheritance is...            0.990919   \n",
       "1   In object-oriented programming, inheritance is...            0.990605   \n",
       "2   In object-oriented programming, inheritance is...            0.995054   \n",
       "3   In object-oriented programming, inheritance is...            0.996639   \n",
       "4   In object-oriented programming, inheritance is...            0.998786   \n",
       "..                                                ...                 ...   \n",
       "90  In mathematics and computer science, dynamic p...            0.995494   \n",
       "91  In mathematics and computer science, dynamic p...            0.996922   \n",
       "92  In mathematics and computer science, dynamic p...            0.995559   \n",
       "93  In mathematics and computer science, dynamic p...            0.992209   \n",
       "94  In mathematics and computer science, dynamic p...            0.993215   \n",
       "\n",
       "   Doc2Vec_Category Category  \n",
       "0               cut      non  \n",
       "1               cut      non  \n",
       "2               cut    heavy  \n",
       "3               cut      cut  \n",
       "4               cut    light  \n",
       "..              ...      ...  \n",
       "90              cut    light  \n",
       "91              cut      cut  \n",
       "92              cut    light  \n",
       "93              cut    heavy  \n",
       "94              cut      non  \n",
       "\n",
       "[95 rows x 5 columns]"
      ]
     },
     "execution_count": 41,
     "metadata": {},
     "output_type": "execute_result"
    }
   ],
   "source": [
    "sub_df_step_3[['UResponse', 'OResponse', 'Doc2Vec_Similarity', 'Doc2Vec_Category', 'Category']]"
   ]
  },
  {
   "cell_type": "markdown",
   "metadata": {},
   "source": [
    "Precision avec Doc2Vec : 0.20"
   ]
  },
  {
   "cell_type": "markdown",
   "metadata": {},
   "source": []
  }
 ],
 "metadata": {
  "colab": {
   "provenance": []
  },
  "kernelspec": {
   "display_name": "base",
   "language": "python",
   "name": "python3"
  },
  "language_info": {
   "codemirror_mode": {
    "name": "ipython",
    "version": 3
   },
   "file_extension": ".py",
   "mimetype": "text/x-python",
   "name": "python",
   "nbconvert_exporter": "python",
   "pygments_lexer": "ipython3",
   "version": "3.11.5"
  }
 },
 "nbformat": 4,
 "nbformat_minor": 0
}
